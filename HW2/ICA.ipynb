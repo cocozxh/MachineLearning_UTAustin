{
  "nbformat": 4,
  "nbformat_minor": 0,
  "metadata": {
    "colab": {
      "name": "ICA.ipynb",
      "provenance": [],
      "authorship_tag": "ABX9TyO/iaoLbzIOrwIQYleQQKFg",
      "include_colab_link": true
    },
    "kernelspec": {
      "display_name": "Python 3",
      "name": "python3"
    },
    "language_info": {
      "name": "python"
    }
  },
  "cells": [
    {
      "cell_type": "markdown",
      "metadata": {
        "id": "view-in-github",
        "colab_type": "text"
      },
      "source": [
        "<a href=\"https://colab.research.google.com/github/cocozxh/MachineLearning_UTAustin/blob/main/HW2/ICA.ipynb\" target=\"_parent\"><img src=\"https://colab.research.google.com/assets/colab-badge.svg\" alt=\"Open In Colab\"/></a>"
      ]
    },
    {
      "cell_type": "code",
      "metadata": {
        "id": "0uuVWg4Sc5UX",
        "colab": {
          "base_uri": "https://localhost:8080/"
        },
        "outputId": "7d910331-a40c-46e4-ab92-7f92466ebaaa"
      },
      "source": [
        "from google.colab import drive\n",
        "drive.mount('/content/gdrive')"
      ],
      "execution_count": 6,
      "outputs": [
        {
          "output_type": "stream",
          "name": "stdout",
          "text": [
            "Drive already mounted at /content/gdrive; to attempt to forcibly remount, call drive.mount(\"/content/gdrive\", force_remount=True).\n"
          ]
        }
      ]
    },
    {
      "cell_type": "code",
      "metadata": {
        "id": "9dzXihNjgD_v"
      },
      "source": [
        "import scipy.io as scio\n",
        "import numpy as np\n",
        "import math\n",
        "import matplotlib.pyplot as plt\n",
        "import random"
      ],
      "execution_count": 7,
      "outputs": []
    },
    {
      "cell_type": "code",
      "metadata": {
        "id": "funSsu6OcA-h"
      },
      "source": [
        "data = scio.loadmat('/content/gdrive/MyDrive/UTAustin_2021Fall/Machine_Learning/HW2/sounds.mat')"
      ],
      "execution_count": 8,
      "outputs": []
    },
    {
      "cell_type": "code",
      "metadata": {
        "id": "qApT387c0gvh"
      },
      "source": [
        "save_dir = '/content/gdrive/MyDrive/UTAustin_2021Fall/Machine_Learning/HW2/test1'"
      ],
      "execution_count": 9,
      "outputs": []
    },
    {
      "cell_type": "code",
      "metadata": {
        "id": "X37ddmrIsebB"
      },
      "source": [
        "color_list = ['r','c','m','b','g']"
      ],
      "execution_count": 10,
      "outputs": []
    },
    {
      "cell_type": "code",
      "metadata": {
        "colab": {
          "base_uri": "https://localhost:8080/"
        },
        "id": "gKAdvTXZjgkk",
        "outputId": "56a4b834-a385-4042-b542-d7a5b6ca8579"
      },
      "source": [
        "Selected = [0,1]\n",
        "U = data['sounds'][Selected,:]\n",
        "U"
      ],
      "execution_count": 11,
      "outputs": [
        {
          "output_type": "execute_result",
          "data": {
            "text/plain": [
              "array([[ 0.00000000e+00,  6.40869141e-03, -1.06811523e-03, ...,\n",
              "         6.10351562e-05, -3.05175781e-05,  3.05175781e-05],\n",
              "       [ 2.59399414e-03,  7.01904297e-03,  6.22558594e-03, ...,\n",
              "         0.00000000e+00,  0.00000000e+00,  0.00000000e+00]])"
            ]
          },
          "metadata": {},
          "execution_count": 11
        }
      ]
    },
    {
      "cell_type": "code",
      "metadata": {
        "id": "XUKWlX42l1wT"
      },
      "source": [
        "n = U.shape[0]\n",
        "t = U.shape[1]\n",
        "m = n"
      ],
      "execution_count": 12,
      "outputs": []
    },
    {
      "cell_type": "code",
      "metadata": {
        "id": "rDDsPYBldy3X"
      },
      "source": [
        "A = [[random.random() for e in range(n)] for e in range(m)]"
      ],
      "execution_count": 13,
      "outputs": []
    },
    {
      "cell_type": "code",
      "metadata": {
        "colab": {
          "base_uri": "https://localhost:8080/"
        },
        "id": "AxgiuI7PjqeK",
        "outputId": "b6e029e4-f027-4dcb-f9a5-1f962f66a743"
      },
      "source": [
        "A = np.array(A)\n",
        "A.shape"
      ],
      "execution_count": 14,
      "outputs": [
        {
          "output_type": "execute_result",
          "data": {
            "text/plain": [
              "(2, 2)"
            ]
          },
          "metadata": {},
          "execution_count": 14
        }
      ]
    },
    {
      "cell_type": "code",
      "metadata": {
        "colab": {
          "base_uri": "https://localhost:8080/"
        },
        "id": "lss6LLnsl-re",
        "outputId": "e88c2497-d589-4cce-e298-a5b5ecf3b1bc"
      },
      "source": [
        "f=open(save_dir+'/A.txt','w') \n",
        "np.savetxt(save_dir+'/A.txt',A,delimiter=',')\n",
        "f.close()\n",
        "A"
      ],
      "execution_count": 15,
      "outputs": [
        {
          "output_type": "execute_result",
          "data": {
            "text/plain": [
              "array([[0.9770787 , 0.3120309 ],\n",
              "       [0.33916394, 0.66915107]])"
            ]
          },
          "metadata": {},
          "execution_count": 15
        }
      ]
    },
    {
      "cell_type": "code",
      "metadata": {
        "colab": {
          "base_uri": "https://localhost:8080/"
        },
        "id": "7W2cgLGPggrI",
        "outputId": "30d86fd6-5d88-47d9-ccd5-c249287b22f0"
      },
      "source": [
        "X = np.matmul(A,U)\n",
        "X"
      ],
      "execution_count": 16,
      "outputs": [
        {
          "output_type": "execute_result",
          "data": {
            "text/plain": [
              "array([[ 8.09406324e-04,  8.45195418e-03,  8.98942528e-04, ...,\n",
              "         5.96361514e-05, -2.98180757e-05,  2.98180757e-05],\n",
              "       [ 1.73577396e-03,  6.87039711e-03,  3.80359133e-03, ...,\n",
              "         2.07009238e-05, -1.03504619e-05,  1.03504619e-05]])"
            ]
          },
          "metadata": {},
          "execution_count": 16
        }
      ]
    },
    {
      "cell_type": "code",
      "metadata": {
        "colab": {
          "base_uri": "https://localhost:8080/"
        },
        "id": "eCLHjVixkG-5",
        "outputId": "6927d3e6-8914-4fba-a1b8-97080c75b144"
      },
      "source": [
        "X.shape"
      ],
      "execution_count": 17,
      "outputs": [
        {
          "output_type": "execute_result",
          "data": {
            "text/plain": [
              "(2, 44000)"
            ]
          },
          "metadata": {},
          "execution_count": 17
        }
      ]
    },
    {
      "cell_type": "code",
      "metadata": {
        "colab": {
          "base_uri": "https://localhost:8080/"
        },
        "id": "nIw8JoFtkXRw",
        "outputId": "2382e153-1422-483d-b1ee-bec38ec4cf6c"
      },
      "source": [
        "np.mean(X, axis = 1)"
      ],
      "execution_count": 18,
      "outputs": [
        {
          "output_type": "execute_result",
          "data": {
            "text/plain": [
              "array([-0.00149277, -0.00058966])"
            ]
          },
          "metadata": {},
          "execution_count": 18
        }
      ]
    },
    {
      "cell_type": "code",
      "metadata": {
        "id": "fnPSXfJrlDdo"
      },
      "source": [
        "X = X - np.reshape(np.mean(X, axis = 1),(m,1))"
      ],
      "execution_count": 19,
      "outputs": []
    },
    {
      "cell_type": "code",
      "metadata": {
        "colab": {
          "base_uri": "https://localhost:8080/"
        },
        "id": "Yt7leKSguqEx",
        "outputId": "139191d7-48ab-4b42-dd62-9c2940de971f"
      },
      "source": [
        "np.mean(X, axis = 1)"
      ],
      "execution_count": 20,
      "outputs": [
        {
          "output_type": "execute_result",
          "data": {
            "text/plain": [
              "array([2.80583637e-18, 4.10025549e-20])"
            ]
          },
          "metadata": {},
          "execution_count": 20
        }
      ]
    },
    {
      "cell_type": "code",
      "metadata": {
        "id": "uo5cy7EY13zp"
      },
      "source": [
        "# e_vals, e_vecs = np.linalg.eig(X.dot(X.transpose()))\n",
        "# independent_X = e_vecs.dot(np.diag(np.power(e_vals,(-1/2)))).dot(e_vecs.transpose()).dot(X)"
      ],
      "execution_count": 21,
      "outputs": []
    },
    {
      "cell_type": "code",
      "metadata": {
        "id": "rsEEwKHJlMUC"
      },
      "source": [
        "W = np.random.rand(A.shape[1],A.shape[0])/1000000"
      ],
      "execution_count": 22,
      "outputs": []
    },
    {
      "cell_type": "code",
      "metadata": {
        "colab": {
          "base_uri": "https://localhost:8080/"
        },
        "id": "l1L39LlZEY-q",
        "outputId": "fc61ba8c-764e-47a7-ae57-9ecf3f67f2b0"
      },
      "source": [
        "f=open(save_dir+'/W.txt','w')\n",
        "np.savetxt(save_dir+'/W.txt',W,delimiter=',')\n",
        "f.close()\n",
        "W"
      ],
      "execution_count": 23,
      "outputs": [
        {
          "output_type": "execute_result",
          "data": {
            "text/plain": [
              "array([[8.85553513e-07, 7.31337474e-07],\n",
              "       [2.66314388e-07, 3.11962001e-07]])"
            ]
          },
          "metadata": {},
          "execution_count": 23
        }
      ]
    },
    {
      "cell_type": "code",
      "metadata": {
        "id": "pEUvuSPJllh7"
      },
      "source": [
        "Y = np.matmul(W,X)"
      ],
      "execution_count": 24,
      "outputs": []
    },
    {
      "cell_type": "code",
      "metadata": {
        "id": "94WtZvoulpCL"
      },
      "source": [
        "Z = 1/(1+np.exp(-Y))"
      ],
      "execution_count": 25,
      "outputs": []
    },
    {
      "cell_type": "code",
      "metadata": {
        "id": "ZJKcOv66nFf7"
      },
      "source": [
        "R_max = 100000\n",
        "miu = 0.0001\n",
        "MSE = []"
      ],
      "execution_count": 26,
      "outputs": []
    },
    {
      "cell_type": "code",
      "metadata": {
        "id": "8i3oP-Egn_qu"
      },
      "source": [
        "for i in range(R_max):\n",
        "  delta_W = np.matmul(miu*(np.identity(W.shape[0])+np.matmul(1-2*Z,Y.transpose())),W)\n",
        "  W = W+delta_W\n",
        "  Y = np.matmul(W,X)\n",
        "  Z = 1/(1+np.exp(-Y))\n",
        "  error = np.mean(np.square(U-Y))\n",
        "  # print(\"iteration \"+str(i)+\" =======> err \"+str(error))\n",
        "  MSE.append(error)"
      ],
      "execution_count": 28,
      "outputs": []
    },
    {
      "cell_type": "code",
      "metadata": {
        "id": "L34tS_-9oxMh"
      },
      "source": [
        "def visualize_signal(signal, fig_name):\n",
        "    n = len(signal)\n",
        "    i = 0\n",
        "    columns = 1\n",
        "    rows = n\n",
        "    fig = plt.figure(figsize=(5, 5))\n",
        "    ax = []\n",
        "    for i in range(columns*rows):\n",
        "        ax.append(fig.add_subplot(rows, columns, i+1) )\n",
        "        plt.plot(signal[i], color_list[i])\n",
        "        plt.xlabel('Time')\n",
        "        plt.ylabel('Amplitude')\n",
        "    plt.savefig(save_dir+'/%s.png' % (fig_name))\n",
        "    plt.close()"
      ],
      "execution_count": 29,
      "outputs": []
    },
    {
      "cell_type": "code",
      "metadata": {
        "id": "bxMA7nPxr0Nm"
      },
      "source": [
        "visualize_signal(U,'U')\n",
        "visualize_signal(Y,'Y')\n",
        "visualize_signal(X,'X')"
      ],
      "execution_count": 30,
      "outputs": []
    },
    {
      "cell_type": "code",
      "metadata": {
        "id": "5UgI8dj25DQ9",
        "colab": {
          "base_uri": "https://localhost:8080/",
          "height": 334
        },
        "outputId": "f158f91c-bcd8-4f1d-d534-2fb73b471942"
      },
      "source": [
        "import matplotlib.pyplot as plt\n",
        "plt.figure(figsize=(8,5))\n",
        "plt.plot(MSE)\n",
        "# plt.xticks(fontsize=20)\n",
        "# plt.yticks(fontsize=20)\n",
        "plt.xlabel(\"Iteration\")\n",
        "plt.ylabel(\"MSE\")\n",
        "plt.savefig(save_dir+'/MSE.png')\n",
        "plt.show()"
      ],
      "execution_count": 31,
      "outputs": [
        {
          "output_type": "display_data",
          "data": {
            "image/png": "[encoded data removed]",
            "text/plain": [
              "<Figure size 576x360 with 1 Axes>"
            ]
          },
          "metadata": {
            "needs_background": "light"
          }
        }
      ]
    },
    {
      "cell_type": "code",
      "metadata": {
        "id": "tmbHM42xAa_B"
      },
      "source": [
        "def corrcoef(X,Y):\n",
        "  x_mean = np.mean(X)\n",
        "  y_mean = np.mean(Y)\n",
        "  a = np.sum((X-x_mean)*(Y-y_mean))\n",
        "  b = np.sqrt(np.sum(np.square(X-x_mean))*np.sum(np.square(Y-y_mean)))\n",
        "  return a/b"
      ],
      "execution_count": 33,
      "outputs": []
    },
    {
      "cell_type": "code",
      "metadata": {
        "id": "eD-jOCGuSTfj",
        "colab": {
          "base_uri": "https://localhost:8080/"
        },
        "outputId": "6ef6b4f1-1b4d-419b-8c5b-b8a66c4c103a"
      },
      "source": [
        "corrcoef(U[0],Y[1])"
      ],
      "execution_count": 34,
      "outputs": [
        {
          "output_type": "execute_result",
          "data": {
            "text/plain": [
              "-0.0675581884641867"
            ]
          },
          "metadata": {},
          "execution_count": 34
        }
      ]
    },
    {
      "cell_type": "code",
      "metadata": {
        "colab": {
          "base_uri": "https://localhost:8080/"
        },
        "id": "bHTTaOIyIGkM",
        "outputId": "ee024524-1687-4203-ae9c-615dfa1ffadb"
      },
      "source": [
        "f=open(save_dir+'/correlation.txt','w')\n",
        "A = np.array([[0,1],[1,0]])\n",
        "# A = np.array([[0,1,2],[0,2,1],[1,0,2],[1,2,0],[2,1,0],[2,0,1]])\n",
        "maxCorrelation = np.array([])\n",
        "maxMeanCorrelation = 0\n",
        "HighestCorrelation = 0\n",
        "for i in range(A.shape[0]):\n",
        "  correlation = np.array([])\n",
        "  for j in range(A.shape[1]):\n",
        "    correlation = np.append(correlation, [corrcoef(U[j],Y[A[i][j]])])\n",
        "    if correlation[j] > HighestCorrelation:\n",
        "      HighestCorrelation = correlation[j]\n",
        "  print(correlation)  \n",
        "  f.write(str(correlation))\n",
        "  f.write('\\n')\n",
        "  if maxMeanCorrelation<np.mean(correlation):\n",
        "    maxMeanCorrelation = np.mean(correlation)\n",
        "    maxCorrelation = correlation\n",
        "# f.close()"
      ],
      "execution_count": 36,
      "outputs": [
        {
          "output_type": "stream",
          "name": "stdout",
          "text": [
            "[0.99771514 0.99806129]\n",
            "[-0.06755819  0.06224176]\n"
          ]
        }
      ]
    },
    {
      "cell_type": "code",
      "metadata": {
        "colab": {
          "base_uri": "https://localhost:8080/"
        },
        "id": "BRBn8hCsU4aS",
        "outputId": "79b9d120-b1d9-4312-a70a-f6e06c7b6129"
      },
      "source": [
        "HighestCorrelation"
      ],
      "execution_count": 37,
      "outputs": [
        {
          "output_type": "execute_result",
          "data": {
            "text/plain": [
              "0.998061286206259"
            ]
          },
          "metadata": {},
          "execution_count": 37
        }
      ]
    },
    {
      "cell_type": "code",
      "metadata": {
        "colab": {
          "base_uri": "https://localhost:8080/"
        },
        "id": "-lZyDuDSRzT7",
        "outputId": "669e0c67-b373-4a39-8008-7ba6cd67dd59"
      },
      "source": [
        "maxMeanCorrelation"
      ],
      "execution_count": 38,
      "outputs": [
        {
          "output_type": "execute_result",
          "data": {
            "text/plain": [
              "0.9978882108382812"
            ]
          },
          "metadata": {},
          "execution_count": 38
        }
      ]
    },
    {
      "cell_type": "code",
      "metadata": {
        "id": "Ev6che_HypTY"
      },
      "source": [
        "f.write('HighestCorrelation='+str(HighestCorrelation))\n",
        "f.write('\\n')\n",
        "f.write('maxMeanCorrelation='+str(maxMeanCorrelation))\n",
        "f.close()"
      ],
      "execution_count": 36,
      "outputs": []
    },
    {
      "cell_type": "code",
      "metadata": {
        "id": "CYFcT46ECzHw"
      },
      "source": [
        ""
      ],
      "execution_count": null,
      "outputs": []
    }
  ]
}